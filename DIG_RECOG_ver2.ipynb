{
 "cells": [
  {
   "cell_type": "code",
   "execution_count": 1,
   "metadata": {},
   "outputs": [
    {
     "name": "stderr",
     "output_type": "stream",
     "text": [
      "Using TensorFlow backend.\n"
     ]
    }
   ],
   "source": [
    "# Import libraries\n",
    "\n",
    "import numpy as np # linear algebra\n",
    "import pandas as pd\n",
    "import matplotlib.pyplot as plt\n",
    "%matplotlib inline\n",
    "from sklearn.model_selection import train_test_split\n",
    "from sklearn.metrics import confusion_matrix\n",
    "\n",
    "from keras.utils.np_utils import to_categorical # convert to one-hot-encoding\n",
    "from keras.models import Sequential\n",
    "from keras.layers import Dense, Dropout, Flatten, Conv2D, MaxPool2D, BatchNormalization\n",
    "from keras.optimizers import Adam\n",
    "from keras.preprocessing.image import ImageDataGenerator\n",
    "from keras.callbacks import LearningRateScheduler"
   ]
  },
  {
   "cell_type": "code",
   "execution_count": 12,
   "metadata": {},
   "outputs": [],
   "source": [
    "train = pd.read_csv(\"C:/Users/haima/Desktop/Python_working/digit-recognizer/train.csv\")\n",
    "test = pd.read_csv(\"C:/Users/haima/Desktop/Python_working/digit-recognizer/test.csv\")\n",
    "\n",
    "y = train[\"label\"]\n",
    "x = train.drop(labels = [\"label\"], axis = 1) \n"
   ]
  },
  {
   "cell_type": "code",
   "execution_count": 13,
   "metadata": {},
   "outputs": [],
   "source": [
    "x = x.values.reshape(-1,28,28,1)\n",
    "test = test.values.reshape(-1,28,28,1)\n",
    "y = to_categorical(y, num_classes=10)"
   ]
  },
  {
   "cell_type": "code",
   "execution_count": 14,
   "metadata": {},
   "outputs": [],
   "source": [
    "x_train, x_val, y_train, y_val = train_test_split(x, y,test_size=0.1,shuffle = True)"
   ]
  },
  {
   "cell_type": "code",
   "execution_count": 15,
   "metadata": {},
   "outputs": [],
   "source": [
    "model = Sequential()\n",
    "\n",
    "model.add(Conv2D(filters = 16, kernel_size = (3, 3), activation='relu',\n",
    "                 input_shape = (28, 28, 1)))\n",
    "model.add(BatchNormalization())\n",
    "model.add(Conv2D(filters = 16, kernel_size = (3, 3), activation='relu'))\n",
    "model.add(BatchNormalization())\n",
    "\n",
    "model.add(MaxPool2D(strides=(2,2)))\n",
    "model.add(Dropout(0.25))\n",
    "\n",
    "model.add(Conv2D(filters = 32, kernel_size = (3, 3), activation='relu'))\n",
    "model.add(BatchNormalization())\n",
    "model.add(Conv2D(filters = 32, kernel_size = (3, 3), activation='relu'))\n",
    "model.add(BatchNormalization())\n",
    "\n",
    "model.add(MaxPool2D(strides=(2,2)))\n",
    "model.add(Dropout(0.25))\n",
    "\n",
    "model.add(Flatten())\n",
    "model.add(Dense(512, activation='relu'))\n",
    "model.add(Dropout(0.25))\n",
    "model.add(Dense(1024, activation='relu'))\n",
    "model.add(Dropout(0.5))\n",
    "model.add(Dense(10, activation='softmax'))\n"
   ]
  },
  {
   "cell_type": "code",
   "execution_count": 16,
   "metadata": {},
   "outputs": [],
   "source": [
    "datagen = ImageDataGenerator(zoom_range = 0.1,\n",
    "                            height_shift_range = 0.1,\n",
    "                            width_shift_range = 0.1,\n",
    "                            rotation_range = 10)"
   ]
  },
  {
   "cell_type": "code",
   "execution_count": 17,
   "metadata": {},
   "outputs": [],
   "source": [
    "model.compile(loss='categorical_crossentropy', optimizer = Adam(lr=1e-4), metrics=[\"accuracy\"])"
   ]
  },
  {
   "cell_type": "code",
   "execution_count": 18,
   "metadata": {},
   "outputs": [],
   "source": [
    "annealer = LearningRateScheduler(lambda x: 1e-3 * 0.9 ** x)"
   ]
  },
  {
   "cell_type": "code",
   "execution_count": 19,
   "metadata": {},
   "outputs": [
    {
     "name": "stdout",
     "output_type": "stream",
     "text": [
      "Epoch 1/20\n",
      " - 31s - loss: 0.8980 - accuracy: 0.7107 - val_loss: 0.1357 - val_accuracy: 0.9650\n",
      "Epoch 2/20\n",
      " - 25s - loss: 0.3306 - accuracy: 0.9003 - val_loss: 0.1067 - val_accuracy: 0.9675\n",
      "Epoch 3/20\n",
      " - 26s - loss: 0.2358 - accuracy: 0.9278 - val_loss: 0.0947 - val_accuracy: 0.9850\n",
      "Epoch 4/20\n",
      " - 25s - loss: 0.2016 - accuracy: 0.9399 - val_loss: 0.0796 - val_accuracy: 0.9775\n",
      "Epoch 5/20\n",
      " - 25s - loss: 0.1632 - accuracy: 0.9500 - val_loss: 0.0662 - val_accuracy: 0.9750\n",
      "Epoch 6/20\n",
      " - 26s - loss: 0.1526 - accuracy: 0.9538 - val_loss: 0.0756 - val_accuracy: 0.9775\n",
      "Epoch 7/20\n",
      " - 27s - loss: 0.1628 - accuracy: 0.9546 - val_loss: 0.0762 - val_accuracy: 0.9775\n",
      "Epoch 8/20\n",
      " - 25s - loss: 0.1308 - accuracy: 0.9617 - val_loss: 0.0355 - val_accuracy: 0.9875\n",
      "Epoch 9/20\n",
      " - 26s - loss: 0.1246 - accuracy: 0.9655 - val_loss: 0.0374 - val_accuracy: 0.9900\n",
      "Epoch 10/20\n",
      " - 26s - loss: 0.1182 - accuracy: 0.9647 - val_loss: 0.0471 - val_accuracy: 0.9850\n",
      "Epoch 11/20\n",
      " - 26s - loss: 0.1016 - accuracy: 0.9711 - val_loss: 0.0301 - val_accuracy: 0.9875\n",
      "Epoch 12/20\n",
      " - 25s - loss: 0.0997 - accuracy: 0.9701 - val_loss: 0.0317 - val_accuracy: 0.9875\n",
      "Epoch 13/20\n",
      " - 25s - loss: 0.1086 - accuracy: 0.9679 - val_loss: 0.0324 - val_accuracy: 0.9925\n",
      "Epoch 14/20\n",
      " - 25s - loss: 0.0894 - accuracy: 0.9734 - val_loss: 0.0322 - val_accuracy: 0.9900\n",
      "Epoch 15/20\n",
      " - 27s - loss: 0.0866 - accuracy: 0.9770 - val_loss: 0.0366 - val_accuracy: 0.9925\n",
      "Epoch 16/20\n",
      " - 27s - loss: 0.0828 - accuracy: 0.9764 - val_loss: 0.0241 - val_accuracy: 0.9925\n",
      "Epoch 17/20\n",
      " - 27s - loss: 0.0748 - accuracy: 0.9779 - val_loss: 0.0274 - val_accuracy: 0.9900\n",
      "Epoch 18/20\n",
      " - 26s - loss: 0.0679 - accuracy: 0.9784 - val_loss: 0.0194 - val_accuracy: 0.9925\n",
      "Epoch 19/20\n",
      " - 25s - loss: 0.0799 - accuracy: 0.9782 - val_loss: 0.0262 - val_accuracy: 0.9925\n",
      "Epoch 20/20\n",
      " - 26s - loss: 0.0630 - accuracy: 0.9806 - val_loss: 0.0212 - val_accuracy: 0.9900\n"
     ]
    }
   ],
   "source": [
    "hist = model.fit_generator(datagen.flow(x_train, y_train, batch_size=16),\n",
    "                           steps_per_epoch=500,\n",
    "                           epochs=20,\n",
    "                           verbose=2,  \n",
    "                           validation_data=(x_val[:400,:], y_val[:400,:]), #For speed\n",
    "                           callbacks=[annealer])"
   ]
  },
  {
   "cell_type": "code",
   "execution_count": 20,
   "metadata": {},
   "outputs": [
    {
     "name": "stdout",
     "output_type": "stream",
     "text": [
      "Final loss: 0.0344, final accuracy: 0.9895\n"
     ]
    }
   ],
   "source": [
    "final_loss, final_acc = model.evaluate(x_val, y_val, verbose=0)\n",
    "print(\"Final loss: {0:.4f}, final accuracy: {1:.4f}\".format(final_loss, final_acc))"
   ]
  },
  {
   "cell_type": "code",
   "execution_count": 27,
   "metadata": {},
   "outputs": [
    {
     "data": {
      "text/plain": [
       "dict_keys(['val_loss', 'val_accuracy', 'loss', 'accuracy', 'lr'])"
      ]
     },
     "execution_count": 27,
     "metadata": {},
     "output_type": "execute_result"
    }
   ],
   "source": [
    "history_dict = hist.history\n",
    "history_dict.keys()"
   ]
  },
  {
   "cell_type": "code",
   "execution_count": 28,
   "metadata": {},
   "outputs": [
    {
     "data": {
      "image/png": "[encoded data removed]",
      "text/plain": [
       "<Figure size 432x288 with 1 Axes>"
      ]
     },
     "metadata": {
      "needs_background": "light"
     },
     "output_type": "display_data"
    },
    {
     "data": {
      "image/png": "[encoded data removed]",
      "text/plain": [
       "<Figure size 432x288 with 1 Axes>"
      ]
     },
     "metadata": {
      "needs_background": "light"
     },
     "output_type": "display_data"
    }
   ],
   "source": [
    "plt.plot(hist.history['accuracy'])\n",
    "plt.plot(hist.history['val_accuracy'])\n",
    "plt.title('Model accuracy')\n",
    "plt.ylabel('Accuracy')\n",
    "plt.xlabel('Epoch')\n",
    "plt.legend(['Train', 'Test'], loc='upper left')\n",
    "plt.show()\n",
    "\n",
    "# Plot training & validation loss values\n",
    "plt.plot(hist.history['loss'])\n",
    "plt.plot(hist.history['val_loss'])\n",
    "plt.title('Model loss')\n",
    "plt.ylabel('Loss')\n",
    "plt.xlabel('Epoch')\n",
    "plt.legend(['Train', 'Test'], loc='upper left')\n",
    "plt.show()"
   ]
  },
  {
   "cell_type": "code",
   "execution_count": 29,
   "metadata": {},
   "outputs": [
    {
     "name": "stdout",
     "output_type": "stream",
     "text": [
      "[[403   0   0   0   0   0   1   0   1   0]\n",
      " [  0 449   1   0   0   0   0   1   2   0]\n",
      " [  0   0 416   1   1   0   0   2   2   0]\n",
      " [  0   0   2 445   0   1   0   3   1   0]\n",
      " [  0   0   0   0 421   0   1   0   0   5]\n",
      " [  0   0   0   1   0 346   1   0   0   1]\n",
      " [  0   0   1   0   0   2 411   0   3   0]\n",
      " [  0   0   1   0   1   0   0 454   1   1]\n",
      " [  0   0   1   0   0   0   0   0 390   0]\n",
      " [  0   0   0   0   3   0   0   0   2 421]]\n"
     ]
    }
   ],
   "source": [
    "y_hat = model.predict(x_val)\n",
    "y_pred = np.argmax(y_hat, axis=1)\n",
    "y_true = np.argmax(y_val, axis=1)\n",
    "cm = confusion_matrix(y_true, y_pred)\n",
    "print(cm)"
   ]
  },
  {
   "cell_type": "code",
   "execution_count": 30,
   "metadata": {},
   "outputs": [
    {
     "name": "stdout",
     "output_type": "stream",
     "text": [
      "28000/28000 [==============================] - 22s 800us/step\n"
     ]
    }
   ],
   "source": [
    "predictions = model.predict_classes(test, verbose=1)\n",
    "pd.DataFrame({\"ImageId\":list(range(1,len(predictions)+1)),\n",
    "              \"Label\":predictions}).to_csv(\"submission_1.csv\",\n",
    "                                           index=False,\n",
    "                                           header=True)"
   ]
  },
  {
   "cell_type": "code",
   "execution_count": null,
   "metadata": {},
   "outputs": [],
   "source": []
  }
 ],
 "metadata": {
  "kernelspec": {
   "display_name": "Python 3",
   "language": "python",
   "name": "python3"
  },
  "language_info": {
   "codemirror_mode": {
    "name": "ipython",
    "version": 3
   },
   "file_extension": ".py",
   "mimetype": "text/x-python",
   "name": "python",
   "nbconvert_exporter": "python",
   "pygments_lexer": "ipython3",
   "version": "3.7.3"
  }
 },
 "nbformat": 4,
 "nbformat_minor": 2
}
