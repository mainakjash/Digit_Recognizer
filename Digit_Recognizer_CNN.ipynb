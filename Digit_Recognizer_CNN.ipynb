{
 "cells": [
  {
   "cell_type": "code",
   "execution_count": 1,
   "metadata": {},
   "outputs": [
    {
     "name": "stderr",
     "output_type": "stream",
     "text": [
      "Using TensorFlow backend.\n"
     ]
    }
   ],
   "source": [
    "# Import libraries\n",
    "\n",
    "import pandas as pd\n",
    "import numpy as np\n",
    "import matplotlib.pyplot as plt\n",
    "%matplotlib inline\n",
    "from sklearn.model_selection import train_test_split\n",
    "from keras.utils.np_utils import to_categorical\n",
    "from keras.models import Sequential\n",
    "from keras.layers import Dense, Dropout, Flatten, Conv2D, MaxPool2D\n",
    "from keras.optimizers import RMSprop\n",
    "from keras.preprocessing.image import ImageDataGenerator\n",
    "from keras.callbacks import ReduceLROnPlateau, CSVLogger\n"
   ]
  },
  {
   "cell_type": "code",
   "execution_count": 2,
   "metadata": {},
   "outputs": [],
   "source": [
    "#Load Data\n",
    "\n",
    "train = pd.read_csv(\"C:/Users/haima/Desktop/Python_working/digit-recognizer/train.csv\")\n",
    "test = pd.read_csv(\"C:/Users/haima/Desktop/Python_working/digit-recognizer/test.csv\")\n",
    "\n",
    "y = train[\"label\"]\n",
    "x = train.drop(labels = [\"label\"], axis = 1) "
   ]
  },
  {
   "cell_type": "code",
   "execution_count": 3,
   "metadata": {},
   "outputs": [],
   "source": [
    "# Reshape data\n",
    "\n",
    "x = x.values.reshape(-1,28,28,1)\n",
    "test = test.values.reshape(-1,28,28,1)\n"
   ]
  },
  {
   "cell_type": "code",
   "execution_count": 4,
   "metadata": {},
   "outputs": [],
   "source": [
    "# One hot encoding\n",
    "\n",
    "y = to_categorical(y, num_classes=10)"
   ]
  },
  {
   "cell_type": "code",
   "execution_count": 5,
   "metadata": {},
   "outputs": [],
   "source": [
    "#Training and validation sets\n",
    "\n",
    "x_train, x_val, y_train, y_val = train_test_split(x, y,test_size=0.1,shuffle = True)"
   ]
  },
  {
   "cell_type": "code",
   "execution_count": 6,
   "metadata": {},
   "outputs": [],
   "source": [
    "# Model\n",
    "\n",
    "model = Sequential()\n",
    "\n",
    "model.add(Conv2D(filters=32,\n",
    "                 kernel_size=(5,5),\n",
    "                 padding='Same', \n",
    "                 activation='relu',\n",
    "                 input_shape=(28,28,1)))\n",
    "\n",
    "model.add(Conv2D(filters=32,\n",
    "                 kernel_size=(5,5),\n",
    "                 padding='Same', \n",
    "                 activation='relu'))\n",
    "\n",
    "model.add(MaxPool2D(pool_size=(2,2)))\n",
    "\n",
    "model.add(Dropout(0.5))\n",
    "\n",
    "\n",
    "\n",
    "model.add(Conv2D(filters=64, \n",
    "                 kernel_size=(3,3),\n",
    "                 padding='Same', \n",
    "                 activation='relu'))\n",
    "\n",
    "model.add(Conv2D(filters=64,\n",
    "                 kernel_size=(3,3),\n",
    "                 padding='Same', \n",
    "                 activation='relu'))\n",
    "\n",
    "model.add(MaxPool2D(pool_size=(2,2),\n",
    "                    strides=(2,2)))\n",
    "\n",
    "model.add(Dropout(0.5))\n",
    "\n",
    "\n",
    "\n",
    "model.add(Flatten())\n",
    "\n",
    "model.add(Dense(8192, activation='relu'))\n",
    "\n",
    "model.add(Dropout(0.5))\n",
    "\n",
    "\n",
    "\n",
    "model.add(Dense(2048, activation='relu'))\n",
    "\n",
    "model.add(Dropout(0.5))\n",
    "\n",
    "\n",
    "\n",
    "model.add(Dense(10, activation=\"softmax\"))\n",
    "\n",
    "\n",
    "model.compile(optimizer= RMSprop(lr=0.0001,\n",
    "                                rho=0.9,\n",
    "                                epsilon=1e-08,\n",
    "                                decay=0.00001),\n",
    "              loss=\"categorical_crossentropy\",\n",
    "              metrics=[\"accuracy\"])"
   ]
  },
  {
   "cell_type": "code",
   "execution_count": 7,
   "metadata": {},
   "outputs": [],
   "source": [
    "# Data augmentation\n",
    "\n",
    "data_gen = ImageDataGenerator(rescale=1./255,\n",
    "                                    rotation_range=1,\n",
    "                                    zoom_range=0.1, \n",
    "                                    width_shift_range=0.05,\n",
    "                                    height_shift_range=0.05)\n",
    "data_gen.fit(x_train)\n"
   ]
  },
  {
   "cell_type": "code",
   "execution_count": 8,
   "metadata": {},
   "outputs": [
    {
     "name": "stdout",
     "output_type": "stream",
     "text": [
      "Epoch 1/30\n",
      "147/147 [==============================] - 181s 1s/step - loss: 1.1352 - accuracy: 0.6176 - val_loss: 44.2691 - val_accuracy: 0.8900\n",
      "Epoch 2/30\n",
      "147/147 [==============================] - 165s 1s/step - loss: 0.4702 - accuracy: 0.8527 - val_loss: 25.9768 - val_accuracy: 0.9414\n",
      "Epoch 3/30\n",
      "147/147 [==============================] - 162s 1s/step - loss: 0.2838 - accuracy: 0.9093 - val_loss: 16.7699 - val_accuracy: 0.9667\n",
      "Epoch 4/30\n",
      "147/147 [==============================] - 160s 1s/step - loss: 0.2262 - accuracy: 0.9314 - val_loss: 12.9645 - val_accuracy: 0.9707\n",
      "Epoch 5/30\n",
      "147/147 [==============================] - 161s 1s/step - loss: 0.1793 - accuracy: 0.9450 - val_loss: 11.9563 - val_accuracy: 0.9745\n",
      "Epoch 6/30\n",
      "147/147 [==============================] - 160s 1s/step - loss: 0.1587 - accuracy: 0.9508 - val_loss: 10.0317 - val_accuracy: 0.9805\n",
      "Epoch 7/30\n",
      "147/147 [==============================] - 160s 1s/step - loss: 0.1407 - accuracy: 0.9546 - val_loss: 9.8373 - val_accuracy: 0.9764\n",
      "Epoch 8/30\n",
      "147/147 [==============================] - 165s 1s/step - loss: 0.1223 - accuracy: 0.9620 - val_loss: 7.6486 - val_accuracy: 0.9814\n",
      "Epoch 9/30\n",
      "147/147 [==============================] - 173s 1s/step - loss: 0.1190 - accuracy: 0.9617 - val_loss: 8.4221 - val_accuracy: 0.9831\n",
      "Epoch 10/30\n",
      "147/147 [==============================] - 175s 1s/step - loss: 0.1104 - accuracy: 0.9676 - val_loss: 8.3242 - val_accuracy: 0.9838\n",
      "Epoch 11/30\n",
      "147/147 [==============================] - 171s 1s/step - loss: 0.1034 - accuracy: 0.9686 - val_loss: 8.4142 - val_accuracy: 0.9826\n",
      "Epoch 12/30\n",
      "147/147 [==============================] - 166s 1s/step - loss: 0.0921 - accuracy: 0.9722 - val_loss: 7.1115 - val_accuracy: 0.9845\n",
      "Epoch 13/30\n",
      "147/147 [==============================] - 164s 1s/step - loss: 0.0983 - accuracy: 0.9707 - val_loss: 6.7232 - val_accuracy: 0.9862\n",
      "Epoch 14/30\n",
      "147/147 [==============================] - 163s 1s/step - loss: 0.0878 - accuracy: 0.9722 - val_loss: 5.8088 - val_accuracy: 0.9871\n",
      "Epoch 15/30\n",
      "147/147 [==============================] - 163s 1s/step - loss: 0.0869 - accuracy: 0.9737 - val_loss: 6.1395 - val_accuracy: 0.9867\n",
      "Epoch 16/30\n",
      "147/147 [==============================] - 205s 1s/step - loss: 0.0794 - accuracy: 0.9754 - val_loss: 6.1515 - val_accuracy: 0.9876\n",
      "Epoch 17/30\n",
      "147/147 [==============================] - 323s 2s/step - loss: 0.0730 - accuracy: 0.9780 - val_loss: 7.4688 - val_accuracy: 0.9864\n",
      "Epoch 18/30\n",
      "147/147 [==============================] - 336s 2s/step - loss: 0.0828 - accuracy: 0.9758 - val_loss: 4.8920 - val_accuracy: 0.9900\n",
      "Epoch 19/30\n",
      "147/147 [==============================] - 326s 2s/step - loss: 0.0683 - accuracy: 0.9787 - val_loss: 6.9453 - val_accuracy: 0.9869\n",
      "Epoch 20/30\n",
      "147/147 [==============================] - 288s 2s/step - loss: 0.0660 - accuracy: 0.9797 - val_loss: 5.2227 - val_accuracy: 0.9890\n",
      "Epoch 21/30\n",
      "147/147 [==============================] - 264s 2s/step - loss: 0.0761 - accuracy: 0.9773 - val_loss: 5.1160 - val_accuracy: 0.9898\n",
      "Epoch 22/30\n",
      "147/147 [==============================] - 187s 1s/step - loss: 0.0664 - accuracy: 0.9788 - val_loss: 5.8877 - val_accuracy: 0.9886\n",
      "Epoch 23/30\n",
      "147/147 [==============================] - 182s 1s/step - loss: 0.0688 - accuracy: 0.9789 - val_loss: 5.9723 - val_accuracy: 0.9893\n",
      "Epoch 24/30\n",
      "147/147 [==============================] - 184s 1s/step - loss: 0.0653 - accuracy: 0.9796 - val_loss: 5.4414 - val_accuracy: 0.9902\n",
      "Epoch 25/30\n",
      "147/147 [==============================] - 182s 1s/step - loss: 0.0588 - accuracy: 0.9807 - val_loss: 4.9588 - val_accuracy: 0.9902\n",
      "Epoch 26/30\n",
      "147/147 [==============================] - 248s 2s/step - loss: 0.0666 - accuracy: 0.9805 - val_loss: 5.1057 - val_accuracy: 0.9914\n",
      "Epoch 27/30\n",
      "147/147 [==============================] - 272s 2s/step - loss: 0.0582 - accuracy: 0.9815 - val_loss: 4.7823 - val_accuracy: 0.9917\n",
      "Epoch 28/30\n",
      "147/147 [==============================] - 274s 2s/step - loss: 0.0620 - accuracy: 0.9815 - val_loss: 5.6328 - val_accuracy: 0.9895\n",
      "Epoch 29/30\n",
      "147/147 [==============================] - 229s 2s/step - loss: 0.0632 - accuracy: 0.9814 - val_loss: 4.7997 - val_accuracy: 0.9886\n",
      "Epoch 30/30\n",
      "147/147 [==============================] - 240s 2s/step - loss: 0.0607 - accuracy: 0.9818 - val_loss: 4.3633 - val_accuracy: 0.9917\n"
     ]
    }
   ],
   "source": [
    "# Training the model\n",
    "\n",
    "history = model.fit_generator(data_gen.flow(x_train,\n",
    "                                                  y_train,\n",
    "                                                  batch_size=100),\n",
    "                              epochs=30,\n",
    "                              validation_data=(x_val, y_val),\n",
    "                              verbose=1,\n",
    "                              steps_per_epoch=x_train.shape[0] // 256)\n",
    "\n",
    "model.save_weights(\"model.h5\")"
   ]
  },
  {
   "cell_type": "code",
   "execution_count": 9,
   "metadata": {},
   "outputs": [
    {
     "name": "stdout",
     "output_type": "stream",
     "text": [
      "28000/28000 [==============================] - 169s 6ms/step\n"
     ]
    }
   ],
   "source": [
    "# Testing and predictions\n",
    "\n",
    "predictions = model.predict_classes(test, verbose=1)\n",
    "pd.DataFrame({\"ImageId\":list(range(1,len(predictions)+1)),\n",
    "              \"Label\":predictions}).to_csv(\"C:/Users/haima/Desktop/Python_working/digit-recognizer/submission.csv\",\n",
    "                                           index=False,\n",
    "                                           header=True)"
   ]
  },
  {
   "cell_type": "code",
   "execution_count": null,
   "metadata": {},
   "outputs": [],
   "source": []
  }
 ],
 "metadata": {
  "kernelspec": {
   "display_name": "Python 3",
   "language": "python",
   "name": "python3"
  },
  "language_info": {
   "codemirror_mode": {
    "name": "ipython",
    "version": 3
   },
   "file_extension": ".py",
   "mimetype": "text/x-python",
   "name": "python",
   "nbconvert_exporter": "python",
   "pygments_lexer": "ipython3",
   "version": "3.7.3"
  }
 },
 "nbformat": 4,
 "nbformat_minor": 2
}
